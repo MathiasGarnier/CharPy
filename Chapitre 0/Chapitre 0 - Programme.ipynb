{
 "cells": [
  {
   "cell_type": "markdown",
   "id": "d2dec999",
   "metadata": {},
   "source": [
    "Amateurs de reptiles, grande sera votre déception. \n",
    "\n",
    "> By the way, the [Python] language is named after the BBC show “Monty Python’s Flying Circus” and has nothing to do with reptiles. Making references to Monty Python skits in documentation is not only allowed, it is encouraged!\n",
    "\n",
    "Comme quoi... lire la [documentation Python](https://docs.python.org/3/index.html) n'est pas toujours inutile! De manière générale, préférez la documentation à un LLM :)."
   ]
  },
  {
   "cell_type": "markdown",
   "id": "45a3b9d6",
   "metadata": {},
   "source": [
    "Que retenir donc avant de commencer à travailler sur les notebooks ? Tout d'abord, vous n'y trouverez à l'évidence pas tout! Un contact assidû voire névrotique avec la documentation Python ne peut pas faire de mal..."
   ]
  },
  {
   "cell_type": "markdown",
   "id": "19fe0740",
   "metadata": {},
   "source": [
    "On conclut en donnant une liste de ressources qui pourraient vous être utiles à un moment ou à un autre : \n",
    "- s"
   ]
  },
  {
   "cell_type": "markdown",
   "id": "20e353e8",
   "metadata": {},
   "source": []
  }
 ],
 "metadata": {
  "language_info": {
   "name": "python"
  }
 },
 "nbformat": 4,
 "nbformat_minor": 5
}
